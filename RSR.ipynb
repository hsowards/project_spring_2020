{
 "cells": [
  {
   "cell_type": "markdown",
   "metadata": {},
   "source": [
    "# Run SuSiE Run!\n",
    "## Data processing for fine-mapping with SusiE and DAP-G\n",
    "This is an informative Jupyter notebook that was written to help pull and process data for analysis using the fine-mapping programs SuSiE and DAP-G. These are main goals of this script:\n",
    "1. Pull GWAS summary statistics and reference panel data\n",
    "2. Make a linkage disequilibrium (LD) matrix with the reference panel data\n",
    "3. Align and clean the summary stats and LD matrix\n",
    "4. Fine-map the region using 2 different programs:\n",
    "    - A program written in R named SuSiE\n",
    "    - A program written in C++ named DAP-G"
   ]
  },
  {
   "cell_type": "markdown",
   "metadata": {},
   "source": [
    "## 1. Pulling GWAS summary statistics and reference panel data\n",
    "*Important Note: these instructions are specific to data that **is not** publicly accessible* \n",
    "\n",
    "1. If you don't have biowulf access, [request it](https://hpc.nih.gov/docs/accounts.html)\n",
    "2. Request access to data files (ask your PI/supervisor)\n",
    "3. [Connect to Biowulf](https://hpc.nih.gov/docs/connect.html) \n",
    "\n",
    "Once you're connected, edit the file **scripts/config.sh** to match your region of interest. Don't forget to include the path to the project directory so that the files don't pile up in shared folders."
   ]
  },
  {
   "cell_type": "code",
   "execution_count": null,
   "metadata": {},
   "outputs": [],
   "source": [
    "# Once your config is set up and saved, run the following script\n",
    "!sh scripts/data.sh"
   ]
  },
  {
   "cell_type": "code",
   "execution_count": null,
   "metadata": {},
   "outputs": [],
   "source": [
    "# Check that your files are present\n",
    "#there should be a bim/fam/bed file with the rsID in your config file and a txt file with the chr number\n",
    "!source scripts/config.sh\n",
    "%cd $dir\n",
    "!ls $dir"
   ]
  },
  {
   "cell_type": "markdown",
   "metadata": {},
   "source": [
    "## 2. Make a linkage disequilibrium (LD) matrix with the reference panel data\n",
    "Running the following script will:\n",
    "1. read in our plink data, specifically the genotype matrix (X)\n",
    "2. make sure that SNPs are in columns rather than rows\n",
    "3. set missing genotypes to the sample mean\n",
    "4. standardize the genotypes\n",
    "5. compute the {LD using the equation np.transpose(X) @ (X/N)\n",
    "    - X is the genotype matrix\n",
    "    - N is the sample size (N individuals included in the LD reference population)\n",
    "    - @ is numpy's matrix multiplication symbol\n",
    "6. check that the matrix is positive semi-definite (PSD)\n",
    "    - Specifically checking that all eigen values are greater than -1E-10, SuSiE's threshold for PSD\n",
    "7. write out the matrix as rsid.ld"
   ]
  },
  {
   "cell_type": "code",
   "execution_count": null,
   "metadata": {},
   "outputs": [],
   "source": [
    "#run ld.py\n",
    "!python scripts/ld.py"
   ]
  },
  {
   "cell_type": "markdown",
   "metadata": {},
   "source": [
    "## 3. Align and clean the summary statistics and LD matrix\n",
    "Running the following script will:\n",
    "1. read in the summary stats and new LD matrix\n",
    "2. pare the datasets down to the region\n",
    "3. check that ref/alt alleles are aligned between the datasets\n",
    "2. check that the number of SNPs in the summary stats is the same as the LD matrix\n",
    "3. if there is a mismatch of SNPs:\n",
    "    - the bim file will be used to align the summary stats with the LD matrix\n",
    "    - SNPs that are missing from either file will be removed\n",
    "4. write out the clean summary stats and LD matrix\n",
    "    - Files for analysis in SuSiE will be named rsid_susie_sumstats.txt and rsid_susie.ld\n",
    "    - Files for analysis in DAP-G will be named rsid_dapg_sumstats.txt and rsid_dapg.ld"
   ]
  },
  {
   "cell_type": "code",
   "execution_count": null,
   "metadata": {},
   "outputs": [],
   "source": [
    "!python scripts/processing.py"
   ]
  },
  {
   "cell_type": "markdown",
   "metadata": {},
   "source": [
    "## 4. Fine-map the region with SuSiE\n",
    "Running the following script will:\n",
    "1. read in the summary stats and LD matrix\n",
    "2. run the fine-mapping algorithm with L number of predicted causals\n",
    "3. write out the credible sets produced by SuSiE as rsid_susie_L_cs.csv"
   ]
  },
  {
   "cell_type": "code",
   "execution_count": null,
   "metadata": {},
   "outputs": [],
   "source": [
    "!R scripts/SuSiE.R"
   ]
  },
  {
   "cell_type": "markdown",
   "metadata": {},
   "source": [
    "## 4. Fine-map the region with DAP-G\n",
    "\n",
    "- The DAP-G specific files produced by processing.py will be run in DAP-G using the included script dapg.sh\n",
    "- DAP-G must be compiled and run in a virtual box running ubuntu, here are the rough steps:\n",
    "    1. [Download Oracle VM VirtualBox](https://www.virtualbox.org/wiki/Downloads)\n",
    "    2. download ubuntu desktop [here](https://ubuntu.com/download/desktop)\n",
    "    2. [Follow this guide](https://brb.nci.nih.gov/seqtools/installUbuntu.html) to set up your virtual machine\n",
    "    3. You can clone this repository into your virtualbox to access the config.sh and dapg.sh files but to access the data you will have to either:\n",
    "        - Create a shared file between your home OS and ubuntu OR\n",
    "        - Upload the data to google docs\n",
    "    4. Once the data is uploaded, make sure the config.sh file is updated, you can do this from the terminal:\n",
    "    ```\n",
    "    nano scripts/config.sh\n",
    "    ```\n",
    "    5. run dapg.sh\n",
    "    ```\n",
    "    sh scripts/dapg.sh\n",
    "    ```\n",
    "    \n"
   ]
  }
 ],
 "metadata": {
  "kernelspec": {
   "display_name": "Python 3",
   "language": "python",
   "name": "python3"
  },
  "language_info": {
   "codemirror_mode": {
    "name": "ipython",
    "version": 3
   },
   "file_extension": ".py",
   "mimetype": "text/x-python",
   "name": "python",
   "nbconvert_exporter": "python",
   "pygments_lexer": "ipython3",
   "version": "3.7.4"
  }
 },
 "nbformat": 4,
 "nbformat_minor": 4
}
