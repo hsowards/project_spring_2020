{
 "cells": [
  {
   "cell_type": "markdown",
   "metadata": {},
   "source": [
    "# Run SuSiE Run!\n",
    "## Data processing for fine-mapping with SusiE and DAP-G\n",
    "This is an informative Jupyter notebook that was written to help pull and process data for analysis using the fine-mapping programs SuSiE and DAP-G. These are main goals of this script:\n",
    "1. Pull GWAS summary stats and reference panel data\n",
    "2. Make a LD (linkage disequilibrium) matrix with the reference panel data\n",
    "3. Align and clean the summary stats and LD matrix\n",
    "4. Fine-map the region using 2 different programs:\n",
    "    - A program written in R named SuSiE\n",
    "    - A program written in C++ named DAP-G"
   ]
  },
  {
   "cell_type": "markdown",
   "metadata": {},
   "source": [
    "## 1. Pulling GWAS summary statistics and reference panel data\n",
    "*Important Note: these instructions are specific to data that **is not** publicly accessible* \n",
    "\n",
    "1. If you don't have biowulf access, [request it](https://hpc.nih.gov/docs/accounts.html)\n",
    "2. Request access to data files (ask your PI/supervisor)\n",
    "3. [Connect to Biowulf](https://hpc.nih.gov/docs/connect.html) \n",
    "\n",
    "Once you're connected, edit the file **scripts/config.sh** to match your region of interest. Don't forget to include the path to the project directory so that the files don't pile up in shared folders."
   ]
  },
  {
   "cell_type": "code",
   "execution_count": null,
   "metadata": {},
   "outputs": [],
   "source": [
    "# Once your config is set up and saved, run the following script\n",
    "!sh scripts/data.sh"
   ]
  },
  {
   "cell_type": "code",
   "execution_count": null,
   "metadata": {},
   "outputs": [],
   "source": [
    "# Check that your files are present, there should be a bim/fam/bed file with the rsID in your config file and a txt file with the chr number\n",
    "!source scripts/config.sh\n",
    "!ls $dir"
   ]
  }
 ],
 "metadata": {
  "kernelspec": {
   "display_name": "Python 3",
   "language": "python",
   "name": "python3"
  },
  "language_info": {
   "codemirror_mode": {
    "name": "ipython",
    "version": 3
   },
   "file_extension": ".py",
   "mimetype": "text/x-python",
   "name": "python",
   "nbconvert_exporter": "python",
   "pygments_lexer": "ipython3",
   "version": "3.7.4"
  }
 },
 "nbformat": 4,
 "nbformat_minor": 4
}
